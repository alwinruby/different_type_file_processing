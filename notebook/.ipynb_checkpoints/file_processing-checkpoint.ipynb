{
 "cells": [
  {
   "cell_type": "code",
   "execution_count": 1,
   "metadata": {},
   "outputs": [],
   "source": [
    "# Python can work with the following file types: \n",
    "# Comma-separated values (CSV) \n",
    "# XLSX (Excel) \n",
    "# Plain Text (txt) \n",
    "# JSON\n",
    "# XML \n",
    "# HTML \n",
    "# PDF (Adobe) \n",
    "# DOCX (Microsoft Word) \n",
    "# Images \n",
    "# MP3 \n",
    "# MP4 \n",
    "# ZIP\n",
    "\n",
    "import pandas as pd \n",
    "df_csv = pd.read_csv('data/csvtest.csv')"
   ]
  },
  {
   "cell_type": "code",
   "execution_count": 2,
   "metadata": {},
   "outputs": [
    {
     "data": {
      "text/html": [
       "<div>\n",
       "<style scoped>\n",
       "    .dataframe tbody tr th:only-of-type {\n",
       "        vertical-align: middle;\n",
       "    }\n",
       "\n",
       "    .dataframe tbody tr th {\n",
       "        vertical-align: top;\n",
       "    }\n",
       "\n",
       "    .dataframe thead th {\n",
       "        text-align: right;\n",
       "    }\n",
       "</style>\n",
       "<table border=\"1\" class=\"dataframe\">\n",
       "  <thead>\n",
       "    <tr style=\"text-align: right;\">\n",
       "      <th></th>\n",
       "      <th>Film</th>\n",
       "      <th>Year</th>\n",
       "      <th>Awards</th>\n",
       "      <th>Nominations</th>\n",
       "    </tr>\n",
       "  </thead>\n",
       "  <tbody>\n",
       "    <tr>\n",
       "      <th>0</th>\n",
       "      <td>7 Faces of Dr. Lao</td>\n",
       "      <td>1964</td>\n",
       "      <td>0 (1)</td>\n",
       "      <td>1</td>\n",
       "    </tr>\n",
       "    <tr>\n",
       "      <th>1</th>\n",
       "      <td>7th Heaven</td>\n",
       "      <td>1927/28</td>\n",
       "      <td>3</td>\n",
       "      <td>5</td>\n",
       "    </tr>\n",
       "    <tr>\n",
       "      <th>2</th>\n",
       "      <td>8 Mile</td>\n",
       "      <td>2002</td>\n",
       "      <td>1</td>\n",
       "      <td>1</td>\n",
       "    </tr>\n",
       "    <tr>\n",
       "      <th>3</th>\n",
       "      <td>12 Years a Slave</td>\n",
       "      <td>2013</td>\n",
       "      <td>3</td>\n",
       "      <td>9</td>\n",
       "    </tr>\n",
       "    <tr>\n",
       "      <th>4</th>\n",
       "      <td>20 Feet from Stardom</td>\n",
       "      <td>2013</td>\n",
       "      <td>1</td>\n",
       "      <td>1</td>\n",
       "    </tr>\n",
       "    <tr>\n",
       "      <th>5</th>\n",
       "      <td>20,000 Leagues Under the Sea</td>\n",
       "      <td>1954</td>\n",
       "      <td>2</td>\n",
       "      <td>3</td>\n",
       "    </tr>\n",
       "    <tr>\n",
       "      <th>6</th>\n",
       "      <td>1917</td>\n",
       "      <td>2019</td>\n",
       "      <td>3</td>\n",
       "      <td>10</td>\n",
       "    </tr>\n",
       "    <tr>\n",
       "      <th>7</th>\n",
       "      <td>2001: A Space Odyssey</td>\n",
       "      <td>1968</td>\n",
       "      <td>1</td>\n",
       "      <td>4</td>\n",
       "    </tr>\n",
       "    <tr>\n",
       "      <th>8</th>\n",
       "      <td>A Fantastic Woman</td>\n",
       "      <td>2017</td>\n",
       "      <td>1</td>\n",
       "      <td>1</td>\n",
       "    </tr>\n",
       "    <tr>\n",
       "      <th>9</th>\n",
       "      <td>A force in Readiness</td>\n",
       "      <td>1961</td>\n",
       "      <td>0 (1)</td>\n",
       "      <td>0</td>\n",
       "    </tr>\n",
       "    <tr>\n",
       "      <th>10</th>\n",
       "      <td>A Girl in the River: The Price of Forgiveness</td>\n",
       "      <td>2015</td>\n",
       "      <td>1</td>\n",
       "      <td>1</td>\n",
       "    </tr>\n",
       "    <tr>\n",
       "      <th>11</th>\n",
       "      <td>A Herb Alpert and the Tijuana Brass Double Fea...</td>\n",
       "      <td>1966</td>\n",
       "      <td>1</td>\n",
       "      <td>1</td>\n",
       "    </tr>\n",
       "  </tbody>\n",
       "</table>\n",
       "</div>"
      ],
      "text/plain": [
       "                                                 Film     Year Awards  \\\n",
       "0                                  7 Faces of Dr. Lao     1964  0 (1)   \n",
       "1                                          7th Heaven  1927/28      3   \n",
       "2                                              8 Mile     2002      1   \n",
       "3                                    12 Years a Slave     2013      3   \n",
       "4                                20 Feet from Stardom     2013      1   \n",
       "5                        20,000 Leagues Under the Sea     1954      2   \n",
       "6                                                1917     2019      3   \n",
       "7                               2001: A Space Odyssey     1968      1   \n",
       "8                                   A Fantastic Woman     2017      1   \n",
       "9                                A force in Readiness     1961  0 (1)   \n",
       "10      A Girl in the River: The Price of Forgiveness     2015      1   \n",
       "11  A Herb Alpert and the Tijuana Brass Double Fea...     1966      1   \n",
       "\n",
       "    Nominations  \n",
       "0             1  \n",
       "1             5  \n",
       "2             1  \n",
       "3             9  \n",
       "4             1  \n",
       "5             3  \n",
       "6            10  \n",
       "7             4  \n",
       "8             1  \n",
       "9             0  \n",
       "10            1  \n",
       "11            1  "
      ]
     },
     "metadata": {},
     "output_type": "display_data"
    }
   ],
   "source": [
    "display(df_csv)"
   ]
  },
  {
   "cell_type": "code",
   "execution_count": 3,
   "metadata": {},
   "outputs": [],
   "source": [
    "df_xls = pd.read_excel('data/exceltest.xlsx', sheet_name='xlstest')"
   ]
  },
  {
   "cell_type": "code",
   "execution_count": 4,
   "metadata": {},
   "outputs": [
    {
     "data": {
      "text/html": [
       "<div>\n",
       "<style scoped>\n",
       "    .dataframe tbody tr th:only-of-type {\n",
       "        vertical-align: middle;\n",
       "    }\n",
       "\n",
       "    .dataframe tbody tr th {\n",
       "        vertical-align: top;\n",
       "    }\n",
       "\n",
       "    .dataframe thead th {\n",
       "        text-align: right;\n",
       "    }\n",
       "</style>\n",
       "<table border=\"1\" class=\"dataframe\">\n",
       "  <thead>\n",
       "    <tr style=\"text-align: right;\">\n",
       "      <th></th>\n",
       "      <th>Film</th>\n",
       "      <th>Year</th>\n",
       "      <th>Awards</th>\n",
       "      <th>Nominations</th>\n",
       "    </tr>\n",
       "  </thead>\n",
       "  <tbody>\n",
       "    <tr>\n",
       "      <th>0</th>\n",
       "      <td>7 Faces of Dr. Lao</td>\n",
       "      <td>1964</td>\n",
       "      <td>0 (1)</td>\n",
       "      <td>1</td>\n",
       "    </tr>\n",
       "    <tr>\n",
       "      <th>1</th>\n",
       "      <td>7th Heaven</td>\n",
       "      <td>1927/28</td>\n",
       "      <td>3</td>\n",
       "      <td>5</td>\n",
       "    </tr>\n",
       "    <tr>\n",
       "      <th>2</th>\n",
       "      <td>8 Mile</td>\n",
       "      <td>2002</td>\n",
       "      <td>1</td>\n",
       "      <td>1</td>\n",
       "    </tr>\n",
       "    <tr>\n",
       "      <th>3</th>\n",
       "      <td>12 Years a Slave</td>\n",
       "      <td>2013</td>\n",
       "      <td>3</td>\n",
       "      <td>9</td>\n",
       "    </tr>\n",
       "    <tr>\n",
       "      <th>4</th>\n",
       "      <td>20 Feet from Stardom</td>\n",
       "      <td>2013</td>\n",
       "      <td>1</td>\n",
       "      <td>1</td>\n",
       "    </tr>\n",
       "    <tr>\n",
       "      <th>5</th>\n",
       "      <td>20,000 Leagues Under the Sea</td>\n",
       "      <td>1954</td>\n",
       "      <td>2</td>\n",
       "      <td>3</td>\n",
       "    </tr>\n",
       "    <tr>\n",
       "      <th>6</th>\n",
       "      <td>1917</td>\n",
       "      <td>2019</td>\n",
       "      <td>3</td>\n",
       "      <td>10</td>\n",
       "    </tr>\n",
       "    <tr>\n",
       "      <th>7</th>\n",
       "      <td>2001: A Space Odyssey</td>\n",
       "      <td>1968</td>\n",
       "      <td>1</td>\n",
       "      <td>4</td>\n",
       "    </tr>\n",
       "    <tr>\n",
       "      <th>8</th>\n",
       "      <td>A Fantastic Woman</td>\n",
       "      <td>2017</td>\n",
       "      <td>1</td>\n",
       "      <td>1</td>\n",
       "    </tr>\n",
       "    <tr>\n",
       "      <th>9</th>\n",
       "      <td>A force in Readiness</td>\n",
       "      <td>1961</td>\n",
       "      <td>0 (1)</td>\n",
       "      <td>0</td>\n",
       "    </tr>\n",
       "    <tr>\n",
       "      <th>10</th>\n",
       "      <td>A Girl in the River: The Price of Forgiveness</td>\n",
       "      <td>2015</td>\n",
       "      <td>1</td>\n",
       "      <td>1</td>\n",
       "    </tr>\n",
       "    <tr>\n",
       "      <th>11</th>\n",
       "      <td>A Herb Alpert and the Tijuana Brass Double Fea...</td>\n",
       "      <td>1966</td>\n",
       "      <td>1</td>\n",
       "      <td>1</td>\n",
       "    </tr>\n",
       "  </tbody>\n",
       "</table>\n",
       "</div>"
      ],
      "text/plain": [
       "                                                 Film     Year Awards  \\\n",
       "0                                  7 Faces of Dr. Lao     1964  0 (1)   \n",
       "1                                          7th Heaven  1927/28      3   \n",
       "2                                              8 Mile     2002      1   \n",
       "3                                    12 Years a Slave     2013      3   \n",
       "4                                20 Feet from Stardom     2013      1   \n",
       "5                        20,000 Leagues Under the Sea     1954      2   \n",
       "6                                                1917     2019      3   \n",
       "7                               2001: A Space Odyssey     1968      1   \n",
       "8                                   A Fantastic Woman     2017      1   \n",
       "9                                A force in Readiness     1961  0 (1)   \n",
       "10      A Girl in the River: The Price of Forgiveness     2015      1   \n",
       "11  A Herb Alpert and the Tijuana Brass Double Fea...     1966      1   \n",
       "\n",
       "    Nominations  \n",
       "0             1  \n",
       "1             5  \n",
       "2             1  \n",
       "3             9  \n",
       "4             1  \n",
       "5             3  \n",
       "6            10  \n",
       "7             4  \n",
       "8             1  \n",
       "9             0  \n",
       "10            1  \n",
       "11            1  "
      ]
     },
     "metadata": {},
     "output_type": "display_data"
    }
   ],
   "source": [
    "display(df_xls)"
   ]
  },
  {
   "cell_type": "code",
   "execution_count": 5,
   "metadata": {},
   "outputs": [
    {
     "name": "stdout",
     "output_type": "stream",
     "text": [
      "['Film' 'Year' 'Awards' 'Nominations']\n"
     ]
    }
   ],
   "source": [
    "# Accessing the columns\n",
    "print(df_xls.columns.ravel())"
   ]
  },
  {
   "cell_type": "code",
   "execution_count": 6,
   "metadata": {},
   "outputs": [
    {
     "name": "stdout",
     "output_type": "stream",
     "text": [
      "['7 Faces of Dr. Lao', '7th Heaven', '8 Mile', '12 Years a Slave', '20 Feet from Stardom', '20,000 Leagues Under the Sea', 1917, '2001: A Space Odyssey', 'A Fantastic Woman', 'A force in Readiness', 'A Girl in the River: The Price of Forgiveness', 'A Herb Alpert and the Tijuana Brass Double Feature']\n"
     ]
    }
   ],
   "source": [
    "# list the contents of the Film column\n",
    "print(df_xls['Film'].tolist())"
   ]
  },
  {
   "cell_type": "code",
   "execution_count": 7,
   "metadata": {},
   "outputs": [
    {
     "name": "stdout",
     "output_type": "stream",
     "text": [
      "Print Excel as JSON: [{\"Film\":\"7 Faces of Dr. Lao\",\"Year\":1964,\"Awards\":\"0 (1)\",\"Nominations\":1},{\"Film\":\"7th Heaven\",\"Year\":\"1927\\/28\",\"Awards\":3,\"Nominations\":5},{\"Film\":\"8 Mile\",\"Year\":2002,\"Awards\":1,\"Nominations\":1},{\"Film\":\"12 Years a Slave\",\"Year\":2013,\"Awards\":3,\"Nominations\":9},{\"Film\":\"20 Feet from Stardom\",\"Year\":2013,\"Awards\":1,\"Nominations\":1},{\"Film\":\"20,000 Leagues Under the Sea\",\"Year\":1954,\"Awards\":2,\"Nominations\":3},{\"Film\":1917,\"Year\":2019,\"Awards\":3,\"Nominations\":10},{\"Film\":\"2001: A Space Odyssey\",\"Year\":1968,\"Awards\":1,\"Nominations\":4},{\"Film\":\"A Fantastic Woman\",\"Year\":2017,\"Awards\":1,\"Nominations\":1},{\"Film\":\"A force in Readiness\",\"Year\":1961,\"Awards\":\"0 (1)\",\"Nominations\":0},{\"Film\":\"A Girl in the River: The Price of Forgiveness\",\"Year\":2015,\"Awards\":1,\"Nominations\":1},{\"Film\":\"A Herb Alpert and the Tijuana Brass Double Feature\",\"Year\":1966,\"Awards\":1,\"Nominations\":1}]\n"
     ]
    }
   ],
   "source": [
    "# Convert to JSON from excel\n",
    "print('Print Excel as JSON:', df_xls.to_json(orient='records'))"
   ]
  },
  {
   "cell_type": "code",
   "execution_count": 8,
   "metadata": {},
   "outputs": [
    {
     "name": "stdout",
     "output_type": "stream",
     "text": [
      "Print Excel as CSV Film,Year,Awards,Nominations\n",
      "7 Faces of Dr. Lao,1964,0 (1),1\n",
      "7th Heaven,1927/28,3,5\n",
      "8 Mile,2002,1,1\n",
      "12 Years a Slave,2013,3,9\n",
      "20 Feet from Stardom,2013,1,1\n",
      "\"20,000 Leagues Under the Sea\",1954,2,3\n",
      "1917,2019,3,10\n",
      "2001: A Space Odyssey,1968,1,4\n",
      "A Fantastic Woman,2017,1,1\n",
      "A force in Readiness,1961,0 (1),0\n",
      "A Girl in the River: The Price of Forgiveness,2015,1,1\n",
      "A Herb Alpert and the Tijuana Brass Double Feature,1966,1,1\n",
      "\n"
     ]
    }
   ],
   "source": [
    "# show the results as a CSV \n",
    "print('Print Excel as CSV', df_xls.to_csv(index=False))"
   ]
  },
  {
   "cell_type": "code",
   "execution_count": 9,
   "metadata": {},
   "outputs": [],
   "source": [
    "# Read JSON files\n",
    "df_json = pd.read_json('data/jsontest.json')"
   ]
  },
  {
   "cell_type": "code",
   "execution_count": 10,
   "metadata": {},
   "outputs": [
    {
     "data": {
      "text/html": [
       "<div>\n",
       "<style scoped>\n",
       "    .dataframe tbody tr th:only-of-type {\n",
       "        vertical-align: middle;\n",
       "    }\n",
       "\n",
       "    .dataframe tbody tr th {\n",
       "        vertical-align: top;\n",
       "    }\n",
       "\n",
       "    .dataframe thead th {\n",
       "        text-align: right;\n",
       "    }\n",
       "</style>\n",
       "<table border=\"1\" class=\"dataframe\">\n",
       "  <thead>\n",
       "    <tr style=\"text-align: right;\">\n",
       "      <th></th>\n",
       "      <th>glossary</th>\n",
       "    </tr>\n",
       "  </thead>\n",
       "  <tbody>\n",
       "    <tr>\n",
       "      <th>GlossDiv</th>\n",
       "      <td>{'title': 'S', 'GlossList': {'GlossEntry': {'I...</td>\n",
       "    </tr>\n",
       "    <tr>\n",
       "      <th>title</th>\n",
       "      <td>example glossary</td>\n",
       "    </tr>\n",
       "  </tbody>\n",
       "</table>\n",
       "</div>"
      ],
      "text/plain": [
       "                                                   glossary\n",
       "GlossDiv  {'title': 'S', 'GlossList': {'GlossEntry': {'I...\n",
       "title                                      example glossary"
      ]
     },
     "metadata": {},
     "output_type": "display_data"
    }
   ],
   "source": [
    "# display json\n",
    "display(df_json)"
   ]
  },
  {
   "cell_type": "code",
   "execution_count": 11,
   "metadata": {},
   "outputs": [
    {
     "data": {
      "text/plain": [
       "{}"
      ]
     },
     "execution_count": 11,
     "metadata": {},
     "output_type": "execute_result"
    }
   ],
   "source": [
    "# using ElementTree library\n",
    "import xml.etree.ElementTree as ET \n",
    "tree = ET.parse('data/countries.xml')\n",
    "root = tree.getroot()\n",
    "\n",
    "#Each element of the tree, including the root, has tags that describe it: \n",
    "root.tag\n",
    "root.attrib"
   ]
  },
  {
   "cell_type": "code",
   "execution_count": 12,
   "metadata": {
    "scrolled": true
   },
   "outputs": [
    {
     "name": "stdout",
     "output_type": "stream",
     "text": [
      "country {'name': 'Liechtenstein'}\n",
      "country {'name': 'Singapore'}\n",
      "country {'name': 'Panama'}\n"
     ]
    }
   ],
   "source": [
    "#print all children of the root of the tree, and their corresponding tags and attributes \n",
    "for child in root: \n",
    "    print(child.tag, child.attrib)"
   ]
  },
  {
   "cell_type": "code",
   "execution_count": 13,
   "metadata": {},
   "outputs": [],
   "source": [
    "#pip install pdfminer"
   ]
  },
  {
   "cell_type": "code",
   "execution_count": 14,
   "metadata": {},
   "outputs": [],
   "source": [
    "#pip install docx2txt"
   ]
  },
  {
   "cell_type": "code",
   "execution_count": 15,
   "metadata": {},
   "outputs": [],
   "source": [
    "import docx2txt\n",
    "text = docx2txt.process(\"data/doctest.docx\")"
   ]
  },
  {
   "cell_type": "code",
   "execution_count": 16,
   "metadata": {},
   "outputs": [
    {
     "name": "stdout",
     "output_type": "stream",
     "text": [
      "Film Year Awards Nominations\n",
      "\n",
      "7 Faces of Dr. Lao 1964 0 (1) 1\n",
      "\n",
      "7th Heaven 1927/28 3 5\n",
      "\n",
      "8 Mile 2002 1 1\n",
      "\n",
      "12 Years a Slave 2013 3 9\n",
      "\n",
      "20 Feet from Stardom 2013 1 1\n",
      "\n",
      "\"20 000 Leagues Under the Sea\" 1954 2 3\n",
      "\n",
      "1917 2019 3 10\n",
      "\n",
      "2001: A Space Odyssey 1968 1 4\n",
      "\n",
      "A Fantastic Woman 2017 1 1\n",
      "\n",
      "A force in Readiness 1961 0 (1) 0\n",
      "\n",
      "A Girl in the River: The Price of Forgiveness 2015 1 1\n",
      "\n",
      "A Herb Alpert and the Tijuana Brass Double Feature 1966 1 1\n"
     ]
    }
   ],
   "source": [
    "print(text)"
   ]
  },
  {
   "cell_type": "code",
   "execution_count": 17,
   "metadata": {},
   "outputs": [],
   "source": [
    "from nltk.tokenize import RegexpTokenizer\n",
    "from pdfminer.high_level import extract_text\n",
    "from nltk.probability import FreqDist"
   ]
  },
  {
   "cell_type": "code",
   "execution_count": 18,
   "metadata": {},
   "outputs": [],
   "source": [
    "textp = extract_text('data/simple1.pdf')"
   ]
  },
  {
   "cell_type": "code",
   "execution_count": 19,
   "metadata": {},
   "outputs": [
    {
     "name": "stdout",
     "output_type": "stream",
     "text": [
      "Hello \n",
      "\n",
      "World\n",
      "\n",
      "Hello \n",
      "\n",
      "World\n",
      "\n",
      "H e l l o  \n",
      "\n",
      "W o r l d\n",
      "\n",
      "H e l l o  \n",
      "\n",
      "W o r l d\n",
      "\n",
      "\f",
      "\n"
     ]
    }
   ],
   "source": [
    "print(textp)"
   ]
  },
  {
   "cell_type": "code",
   "execution_count": 20,
   "metadata": {},
   "outputs": [],
   "source": [
    "import zipfile\n",
    "archive = zipfile.ZipFile('data.zip', 'r')"
   ]
  },
  {
   "cell_type": "code",
   "execution_count": 21,
   "metadata": {},
   "outputs": [
    {
     "data": {
      "text/plain": [
       "b'Film,Year,Awards,Nominations\\n7 Faces of Dr. Lao,1964,0 (1),1\\n7th Heaven,1927/28,3,5\\n8 Mile,2002,1,1\\n12 Years a Slave,2013,3,9\\n20 Feet from Stardom,2013,1,1\\n\"20,000 Leagues Under the Sea\",1954,2,3\\n1917,2019,3,10\\n2001: A Space Odyssey,1968,1,4\\nA Fantastic Woman,2017,1,1\\nA force in Readiness,1961,0 (1),0\\nA Girl in the River: The Price of Forgiveness,2015,1,1\\nA Herb Alpert and the Tijuana Brass Double Feature,1966,1,1\\n\\n'"
      ]
     },
     "metadata": {},
     "output_type": "display_data"
    }
   ],
   "source": [
    "# read the csvtest file\n",
    "df_archive = archive.read('data/csvtest.csv')\n",
    "display (df_archive)"
   ]
  },
  {
   "cell_type": "code",
   "execution_count": null,
   "metadata": {},
   "outputs": [],
   "source": []
  }
 ],
 "metadata": {
  "kernelspec": {
   "display_name": "Python 3",
   "language": "python",
   "name": "python3"
  },
  "language_info": {
   "codemirror_mode": {
    "name": "ipython",
    "version": 3
   },
   "file_extension": ".py",
   "mimetype": "text/x-python",
   "name": "python",
   "nbconvert_exporter": "python",
   "pygments_lexer": "ipython3",
   "version": "3.8.3"
  }
 },
 "nbformat": 4,
 "nbformat_minor": 4
}
